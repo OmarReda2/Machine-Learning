{
 "cells": [
  {
   "cell_type": "markdown",
   "metadata": {},
   "source": [
    "# 1. Import Dependencies"
   ]
  },
  {
   "cell_type": "code",
   "execution_count": 1,
   "metadata": {},
   "outputs": [
    {
     "name": "stdout",
     "output_type": "stream",
     "text": [
      "Requirement already satisfied: opencv-python in c:\\users\\omarr\\anaconda3\\lib\\site-packages (4.7.0.72)\n",
      "Requirement already satisfied: numpy>=1.17.3 in c:\\users\\omarr\\anaconda3\\lib\\site-packages (from opencv-python) (1.23.5)\n"
     ]
    }
   ],
   "source": [
    "!pip install opencv-python"
   ]
  },
  {
   "cell_type": "code",
   "execution_count": 1,
   "metadata": {},
   "outputs": [],
   "source": [
    "# Import opencv\n",
    "import cv2 \n",
    "\n",
    "# Import uuid\n",
    "import uuid\n",
    "\n",
    "# Import Operating System\n",
    "import os\n",
    "\n",
    "# Import time\n",
    "import time"
   ]
  },
  {
   "cell_type": "code",
   "execution_count": null,
   "metadata": {},
   "outputs": [],
   "source": []
  },
  {
   "cell_type": "markdown",
   "metadata": {},
   "source": [
    "# 2. Define Images to Collect"
   ]
  },
  {
   "cell_type": "code",
   "execution_count": 2,
   "metadata": {},
   "outputs": [],
   "source": [
    "labels = ['thumbsup', 'thumbsdown', 'thankyou', 'livelong']\n",
    "number_imgs = 5"
   ]
  },
  {
   "cell_type": "markdown",
   "metadata": {},
   "source": [
    "# 3. Setup Folders "
   ]
  },
  {
   "cell_type": "code",
   "execution_count": 3,
   "metadata": {},
   "outputs": [],
   "source": [
    "IMAGES_PATH = os.path.join('Tensorflow', 'workspace', 'images', 'collectedimages')"
   ]
  },
  {
   "cell_type": "code",
   "execution_count": null,
   "metadata": {},
   "outputs": [],
   "source": []
  },
  {
   "cell_type": "code",
   "execution_count": 4,
   "metadata": {},
   "outputs": [],
   "source": [
    "if not os.path.exists(IMAGES_PATH):\n",
    "    if os.name == 'posix':\n",
    "        !mkdir -p {IMAGES_PATH}\n",
    "    if os.name == 'nt':\n",
    "         !mkdir {IMAGES_PATH}\n",
    "for label in labels:\n",
    "    path = os.path.join(IMAGES_PATH, label)\n",
    "    if not os.path.exists(path):\n",
    "        !mkdir {path}"
   ]
  },
  {
   "cell_type": "code",
   "execution_count": null,
   "metadata": {},
   "outputs": [],
   "source": []
  },
  {
   "cell_type": "markdown",
   "metadata": {},
   "source": [
    "# 4. Capture Images"
   ]
  },
  {
   "cell_type": "code",
   "execution_count": 17,
   "metadata": {},
   "outputs": [
    {
     "name": "stdout",
     "output_type": "stream",
     "text": [
      "Collecting images for thumbsup\n",
      "Collecting image 0\n",
      "Collecting image 1\n",
      "Collecting image 2\n",
      "Collecting image 3\n",
      "Collecting image 4\n",
      "Collecting images for thumbsdown\n",
      "Collecting image 0\n",
      "Collecting image 1\n",
      "Collecting image 2\n",
      "Collecting image 3\n",
      "Collecting image 4\n",
      "Collecting images for thankyou\n",
      "Collecting image 0\n",
      "Collecting image 1\n",
      "Collecting image 2\n",
      "Collecting image 3\n",
      "Collecting image 4\n",
      "Collecting images for livelong\n",
      "Collecting image 0\n",
      "Collecting image 1\n",
      "Collecting image 2\n",
      "Collecting image 3\n",
      "Collecting image 4\n"
     ]
    }
   ],
   "source": [
    "for label in labels:\n",
    "    cap = cv2.VideoCapture(0)\n",
    "    print('Collecting images for {}'.format(label))\n",
    "    time.sleep(5)\n",
    "    for imgnum in range(number_imgs):\n",
    "        print('Collecting image {}'.format(imgnum))\n",
    "        ret, frame = cap.read()\n",
    "        imgname = os.path.join(IMAGES_PATH,label,label+'.'+'{}.jpg'.format(str(uuid.uuid1())))\n",
    "        cv2.imwrite(imgname, frame)\n",
    "        cv2.imshow('frame', frame)\n",
    "        time.sleep(2)\n",
    "\n",
    "        if cv2.waitKey(1) & 0xFF == ord('q'):\n",
    "            break\n",
    "cap.release()\n",
    "cv2.destroyAllWindows()"
   ]
  },
  {
   "cell_type": "code",
   "execution_count": null,
   "metadata": {},
   "outputs": [],
   "source": []
  },
  {
   "cell_type": "code",
   "execution_count": null,
   "metadata": {},
   "outputs": [],
   "source": []
  },
  {
   "cell_type": "markdown",
   "metadata": {},
   "source": [
    "# 5. Image Labelling"
   ]
  },
  {
   "cell_type": "code",
   "execution_count": 6,
   "metadata": {},
   "outputs": [
    {
     "name": "stdout",
     "output_type": "stream",
     "text": [
      "Requirement already satisfied: pyqt5 in c:\\users\\omarr\\anaconda3\\lib\\site-packages (5.15.9)\n",
      "Requirement already satisfied: lxml in c:\\users\\omarr\\anaconda3\\lib\\site-packages (4.9.1)\n",
      "Collecting lxml\n",
      "  Using cached lxml-4.9.2-cp310-cp310-win_amd64.whl (3.8 MB)\n",
      "Requirement already satisfied: PyQt5-sip<13,>=12.11 in c:\\users\\omarr\\anaconda3\\lib\\site-packages (from pyqt5) (12.11.0)\n",
      "Requirement already satisfied: PyQt5-Qt5>=5.15.2 in c:\\users\\omarr\\anaconda3\\lib\\site-packages (from pyqt5) (5.15.2)\n",
      "Installing collected packages: lxml\n",
      "  Attempting uninstall: lxml\n",
      "    Found existing installation: lxml 4.9.1\n",
      "    Uninstalling lxml-4.9.1:\n",
      "      Successfully uninstalled lxml-4.9.1\n"
     ]
    },
    {
     "name": "stderr",
     "output_type": "stream",
     "text": [
      "ERROR: Could not install packages due to an OSError: [WinError 5] Access is denied: 'C:\\\\Users\\\\omarr\\\\anaconda3\\\\Lib\\\\site-packages\\\\~xml\\\\etree.cp310-win_amd64.pyd'\n",
      "Consider using the `--user` option or check the permissions.\n",
      "\n"
     ]
    }
   ],
   "source": [
    "!pip install --upgrade pyqt5 lxml"
   ]
  },
  {
   "cell_type": "code",
   "execution_count": 9,
   "metadata": {},
   "outputs": [
    {
     "name": "stdout",
     "output_type": "stream",
     "text": [
      "Package                       Version\n",
      "----------------------------- ---------------\n",
      "alabaster                     0.7.12\n",
      "anaconda-client               1.11.1\n",
      "anaconda-navigator            2.4.0\n",
      "anaconda-project              0.11.1\n",
      "anyio                         3.5.0\n",
      "appdirs                       1.4.4\n",
      "argon2-cffi                   21.3.0\n",
      "argon2-cffi-bindings          21.2.0\n",
      "arrow                         1.2.3\n",
      "astroid                       2.14.2\n",
      "astropy                       5.1\n",
      "asttokens                     2.0.5\n",
      "atomicwrites                  1.4.0\n",
      "attrs                         22.1.0\n",
      "Automat                       20.2.0\n",
      "autopep8                      1.6.0\n",
      "Babel                         2.11.0\n",
      "backcall                      0.2.0\n",
      "backports.functools-lru-cache 1.6.4\n",
      "backports.tempfile            1.0\n",
      "backports.weakref             1.0.post1\n",
      "bcrypt                        3.2.0\n",
      "beautifulsoup4                4.11.1\n",
      "binaryornot                   0.4.4\n",
      "black                         22.6.0\n",
      "bleach                        4.1.0\n",
      "bokeh                         2.4.3\n",
      "Bottleneck                    1.3.5\n",
      "brotlipy                      0.7.0\n",
      "certifi                       2022.12.7\n",
      "cffi                          1.15.1\n",
      "chardet                       4.0.0\n",
      "charset-normalizer            2.0.4\n",
      "click                         8.0.4\n",
      "cloudpickle                   2.0.0\n",
      "clyent                        1.2.2\n",
      "colorama                      0.4.6\n",
      "colorcet                      3.0.1\n",
      "comm                          0.1.2\n",
      "conda                         23.1.0\n",
      "conda-build                   3.23.3\n",
      "conda-content-trust           0.1.3\n",
      "conda-pack                    0.6.0\n",
      "conda-package-handling        2.0.2\n",
      "conda_package_streaming       0.7.0\n",
      "conda-repo-cli                1.0.27\n",
      "conda-token                   0.4.0\n",
      "conda-verify                  3.4.2\n",
      "constantly                    15.1.0\n",
      "contourpy                     1.0.5\n",
      "cookiecutter                  1.7.3\n",
      "cryptography                  39.0.1\n",
      "cssselect                     1.1.0\n",
      "cycler                        0.11.0\n",
      "cytoolz                       0.12.0\n",
      "daal4py                       2023.0.2\n",
      "dask                          2022.7.0\n",
      "datashader                    0.14.4\n",
      "datashape                     0.5.4\n",
      "debugpy                       1.5.1\n",
      "decorator                     5.1.1\n",
      "defusedxml                    0.7.1\n",
      "diff-match-patch              20200713\n",
      "dill                          0.3.6\n",
      "distributed                   2022.7.0\n",
      "docstring-to-markdown         0.11\n",
      "docutils                      0.18.1\n",
      "entrypoints                   0.4\n",
      "et-xmlfile                    1.1.0\n",
      "executing                     0.8.3\n",
      "fastjsonschema                2.16.2\n",
      "filelock                      3.9.0\n",
      "flake8                        6.0.0\n",
      "Flask                         2.2.2\n",
      "flit_core                     3.6.0\n",
      "fonttools                     4.25.0\n",
      "fsspec                        2022.11.0\n",
      "future                        0.18.3\n",
      "gensim                        4.3.0\n",
      "glob2                         0.7\n",
      "greenlet                      2.0.1\n",
      "h5py                          3.7.0\n",
      "HeapDict                      1.0.1\n",
      "holoviews                     1.15.4\n",
      "huggingface-hub               0.10.1\n",
      "hvplot                        0.8.2\n",
      "hyperlink                     21.0.0\n",
      "idna                          3.4\n",
      "imagecodecs                   2021.8.26\n",
      "imageio                       2.26.0\n",
      "imagesize                     1.4.1\n",
      "imbalanced-learn              0.10.1\n",
      "importlib-metadata            4.11.3\n",
      "incremental                   21.3.0\n",
      "inflection                    0.5.1\n",
      "iniconfig                     1.1.1\n",
      "intake                        0.6.7\n",
      "intervaltree                  3.1.0\n",
      "ipykernel                     6.19.2\n",
      "ipython                       8.10.0\n",
      "ipython-genutils              0.2.0\n",
      "ipywidgets                    7.6.5\n",
      "isort                         5.9.3\n",
      "itemadapter                   0.3.0\n",
      "itemloaders                   1.0.4\n",
      "itsdangerous                  2.0.1\n",
      "jedi                          0.18.1\n",
      "jellyfish                     0.9.0\n",
      "Jinja2                        3.1.2\n",
      "jinja2-time                   0.2.0\n",
      "jmespath                      0.10.0\n",
      "joblib                        1.1.1\n",
      "json5                         0.9.6\n",
      "jsonschema                    4.17.3\n",
      "jupyter                       1.0.0\n",
      "jupyter_client                7.3.4\n",
      "jupyter-console               6.6.2\n",
      "jupyter_core                  5.2.0\n",
      "jupyter-server                1.23.4\n",
      "jupyterlab                    3.5.3\n",
      "jupyterlab-pygments           0.1.2\n",
      "jupyterlab_server             2.19.0\n",
      "jupyterlab-widgets            1.0.0\n",
      "keyring                       23.4.0\n",
      "kiwisolver                    1.4.4\n",
      "lazy-object-proxy             1.6.0\n",
      "libarchive-c                  2.9\n",
      "llvmlite                      0.39.1\n",
      "locket                        1.0.0\n",
      "lxml                          4.9.2\n",
      "lz4                           3.1.3\n",
      "Markdown                      3.4.1\n",
      "MarkupSafe                    2.1.1\n",
      "matplotlib                    3.7.0\n",
      "matplotlib-inline             0.1.6\n",
      "mccabe                        0.7.0\n",
      "menuinst                      1.4.19\n",
      "mistune                       0.8.4\n",
      "mkl-fft                       1.3.1\n",
      "mkl-random                    1.2.2\n",
      "mkl-service                   2.4.0\n",
      "mock                          4.0.3\n",
      "mpmath                        1.2.1\n",
      "msgpack                       1.0.3\n",
      "multipledispatch              0.6.0\n",
      "munkres                       1.1.4\n",
      "mypy-extensions               0.4.3\n",
      "navigator-updater             0.3.0\n",
      "nbclassic                     0.5.2\n",
      "nbclient                      0.5.13\n",
      "nbconvert                     6.5.4\n",
      "nbformat                      5.7.0\n",
      "nest-asyncio                  1.5.6\n",
      "networkx                      2.8.4\n",
      "nltk                          3.7\n",
      "notebook                      6.5.2\n",
      "notebook_shim                 0.2.2\n",
      "numba                         0.56.4\n",
      "numexpr                       2.8.4\n",
      "numpy                         1.23.5\n",
      "numpydoc                      1.5.0\n",
      "opencv-python                 4.7.0.72\n",
      "openpyxl                      3.0.10\n",
      "packaging                     22.0\n",
      "pandas                        1.5.3\n",
      "pandocfilters                 1.5.0\n",
      "panel                         0.14.3\n",
      "param                         1.12.3\n",
      "paramiko                      2.8.1\n",
      "parsel                        1.6.0\n",
      "parso                         0.8.3\n",
      "partd                         1.2.0\n",
      "pathlib                       1.0.1\n",
      "pathspec                      0.10.3\n",
      "patsy                         0.5.3\n",
      "pep8                          1.7.1\n",
      "pexpect                       4.8.0\n",
      "pickleshare                   0.7.5\n",
      "Pillow                        9.4.0\n",
      "pip                           22.3.1\n",
      "pkginfo                       1.8.3\n",
      "platformdirs                  2.5.2\n",
      "plotly                        5.9.0\n",
      "pluggy                        1.0.0\n",
      "ply                           3.11\n",
      "pooch                         1.4.0\n",
      "poyo                          0.5.0\n",
      "prometheus-client             0.14.1\n",
      "prompt-toolkit                3.0.36\n",
      "Protego                       0.1.16\n",
      "psutil                        5.9.0\n",
      "ptyprocess                    0.7.0\n",
      "pure-eval                     0.2.2\n",
      "py                            1.11.0\n",
      "pyasn1                        0.4.8\n",
      "pyasn1-modules                0.2.8\n",
      "pycodestyle                   2.10.0\n",
      "pycosat                       0.6.4\n",
      "pycparser                     2.21\n",
      "pyct                          0.5.0\n",
      "pycurl                        7.45.1\n",
      "PyDispatcher                  2.0.5\n",
      "pydocstyle                    6.3.0\n",
      "pyerfa                        2.0.0\n",
      "pyflakes                      3.0.1\n",
      "Pygments                      2.11.2\n",
      "PyHamcrest                    2.0.2\n",
      "PyJWT                         2.4.0\n",
      "pylint                        2.16.2\n",
      "pylint-venv                   2.3.0\n",
      "pyls-spyder                   0.4.0\n",
      "PyNaCl                        1.5.0\n",
      "pyodbc                        4.0.34\n",
      "pyOpenSSL                     23.0.0\n",
      "pyparsing                     3.0.9\n",
      "PyQt5                         5.15.9\n",
      "PyQt5-Qt5                     5.15.2\n",
      "PyQt5-sip                     12.11.0\n",
      "PyQtWebEngine                 5.15.4\n",
      "pyrsistent                    0.18.0\n",
      "PySocks                       1.7.1\n",
      "pytest                        7.1.2\n",
      "python-dateutil               2.8.2\n",
      "python-lsp-black              1.2.1\n",
      "python-lsp-jsonrpc            1.0.0\n",
      "python-lsp-server             1.7.1\n",
      "python-slugify                5.0.2\n",
      "python-snappy                 0.6.1\n",
      "pytoolconfig                  1.2.5\n",
      "pytz                          2022.7\n",
      "pyviz-comms                   2.0.2\n",
      "PyWavelets                    1.4.1\n",
      "pywin32                       305.1\n",
      "pywin32-ctypes                0.2.0\n",
      "pywinpty                      2.0.10\n",
      "PyYAML                        6.0\n",
      "pyzmq                         23.2.0\n",
      "QDarkStyle                    3.0.2\n",
      "qstylizer                     0.2.2\n",
      "QtAwesome                     1.2.2\n",
      "qtconsole                     5.4.0\n",
      "QtPy                          2.2.0\n",
      "queuelib                      1.5.0\n",
      "regex                         2022.7.9\n",
      "requests                      2.28.1\n",
      "requests-file                 1.5.1\n",
      "rope                          1.7.0\n",
      "Rtree                         1.0.1\n",
      "ruamel.yaml                   0.17.21\n",
      "ruamel.yaml.clib              0.2.6\n",
      "ruamel-yaml-conda             0.17.21\n",
      "scikit-image                  0.19.3\n",
      "scikit-learn                  1.2.1\n",
      "scikit-learn-intelex          20230228.214818\n",
      "scipy                         1.10.0\n",
      "Scrapy                        2.8.0\n",
      "seaborn                       0.12.2\n",
      "Send2Trash                    1.8.0\n",
      "service-identity              18.1.0\n",
      "setuptools                    65.6.3\n",
      "sip                           6.6.2\n",
      "six                           1.16.0\n",
      "smart-open                    5.2.1\n",
      "sniffio                       1.2.0\n",
      "snowballstemmer               2.2.0\n",
      "sortedcontainers              2.4.0\n",
      "soupsieve                     2.3.2.post1\n",
      "Sphinx                        5.0.2\n",
      "sphinxcontrib-applehelp       1.0.2\n",
      "sphinxcontrib-devhelp         1.0.2\n",
      "sphinxcontrib-htmlhelp        2.0.0\n",
      "sphinxcontrib-jsmath          1.0.1\n",
      "sphinxcontrib-qthelp          1.0.3\n",
      "sphinxcontrib-serializinghtml 1.1.5\n",
      "spyder                        5.4.1\n",
      "spyder-kernels                2.4.1\n",
      "SQLAlchemy                    1.4.39\n",
      "stack-data                    0.2.0\n",
      "statsmodels                   0.13.5\n",
      "sympy                         1.11.1\n",
      "tables                        3.7.0\n",
      "tabulate                      0.8.10\n",
      "TBB                           0.2\n",
      "tblib                         1.7.0\n",
      "tenacity                      8.0.1\n",
      "terminado                     0.17.1\n",
      "text-unidecode                1.3\n",
      "textdistance                  4.2.1\n",
      "threadpoolctl                 2.2.0\n",
      "three-merge                   0.1.1\n",
      "tifffile                      2021.7.2\n",
      "tinycss2                      1.2.1\n",
      "tldextract                    3.2.0\n",
      "tokenizers                    0.11.4\n",
      "toml                          0.10.2\n",
      "tomli                         2.0.1\n",
      "tomlkit                       0.11.1\n",
      "toolz                         0.12.0\n",
      "torch                         1.12.1\n",
      "tornado                       6.1\n",
      "tqdm                          4.64.1\n",
      "traitlets                     5.7.1\n",
      "transformers                  4.24.0\n",
      "Twisted                       22.2.0\n",
      "twisted-iocpsupport           1.0.2\n",
      "typing_extensions             4.4.0\n",
      "ujson                         5.4.0\n",
      "Unidecode                     1.2.0\n",
      "urllib3                       1.26.14\n",
      "w3lib                         1.21.0\n",
      "watchdog                      2.1.6\n",
      "wcwidth                       0.2.5\n",
      "webencodings                  0.5.1\n",
      "websocket-client              0.58.0\n",
      "Werkzeug                      2.2.2\n",
      "whatthepatch                  1.0.2\n",
      "wheel                         0.38.4\n",
      "widgetsnbextension            3.5.2\n",
      "win-inet-pton                 1.1.0\n",
      "wincertstore                  0.2\n",
      "wrapt                         1.14.1\n",
      "xarray                        2022.11.0\n",
      "xlwings                       0.29.1\n",
      "yapf                          0.31.0\n",
      "zict                          2.1.0\n",
      "zipp                          3.11.0\n",
      "zope.interface                5.4.0\n",
      "zstandard                     0.19.0\n"
     ]
    }
   ],
   "source": [
    "!pip list"
   ]
  },
  {
   "cell_type": "code",
   "execution_count": 5,
   "metadata": {},
   "outputs": [],
   "source": [
    "LABELIMG_PATH = os.path.join('Tensorflow', 'labelimg')"
   ]
  },
  {
   "cell_type": "code",
   "execution_count": 6,
   "metadata": {},
   "outputs": [
    {
     "name": "stderr",
     "output_type": "stream",
     "text": [
      "Cloning into 'Tensorflow\\labelimg'...\n"
     ]
    }
   ],
   "source": [
    "if not os.path.exists(LABELIMG_PATH):\n",
    "    !mkdir {LABELIMG_PATH}\n",
    "    !git clone https://github.com/tzutalin/labelImg {LABELIMG_PATH}"
   ]
  },
  {
   "cell_type": "code",
   "execution_count": 12,
   "metadata": {},
   "outputs": [],
   "source": [
    "if os.name == 'posix':\n",
    "    !make qt5py3\n",
    "if os.name =='nt':\n",
    "    !cd {LABELIMG_PATH} && pyrcc5 -o libs/resources.py resources.qrc"
   ]
  },
  {
   "cell_type": "code",
   "execution_count": 13,
   "metadata": {},
   "outputs": [
    {
     "name": "stdout",
     "output_type": "stream",
     "text": [
      "Image:E:\\omar\\Programming (Practice & Projects)\\Practice\\Deep learning\\Object detection tutorial\\TFODCourse\\Tensorflow\\workspace\\images\\collectedimages\\livelong\\livelong.9c1d9145-d6d1-11ed-9ea2-c4bde595afbe.jpg -> Annotation:E:/omar/Programming (Practice & Projects)/Practice/Deep learning/Object detection tutorial/TFODCourse/Tensorflow/workspace/images/collectedimages/livelong\\livelong.9c1d9145-d6d1-11ed-9ea2-c4bde595afbe.xml\n",
      "Image:E:\\omar\\Programming (Practice & Projects)\\Practice\\Deep learning\\Object detection tutorial\\TFODCourse\\Tensorflow\\workspace\\images\\collectedimages\\livelong\\livelong.99b6d5d4-d6d1-11ed-b900-c4bde595afbe.jpg -> Annotation:E:/omar/Programming (Practice & Projects)/Practice/Deep learning/Object detection tutorial/TFODCourse/Tensorflow/workspace/images/collectedimages/livelong\\livelong.99b6d5d4-d6d1-11ed-b900-c4bde595afbe.xml\n",
      "Image:E:\\omar\\Programming (Practice & Projects)\\Practice\\Deep learning\\Object detection tutorial\\TFODCourse\\Tensorflow\\workspace\\images\\collectedimages\\livelong\\livelong.974d5ec6-d6d1-11ed-90f6-c4bde595afbe.jpg -> Annotation:E:/omar/Programming (Practice & Projects)/Practice/Deep learning/Object detection tutorial/TFODCourse/Tensorflow/workspace/images/collectedimages/livelong\\livelong.974d5ec6-d6d1-11ed-90f6-c4bde595afbe.xml\n",
      "Image:E:\\omar\\Programming (Practice & Projects)\\Practice\\Deep learning\\Object detection tutorial\\TFODCourse\\Tensorflow\\workspace\\images\\collectedimages\\livelong\\livelong.98818ead-d6d1-11ed-8457-c4bde595afbe.jpg -> Annotation:E:/omar/Programming (Practice & Projects)/Practice/Deep learning/Object detection tutorial/TFODCourse/Tensorflow/workspace/images/collectedimages/livelong\\livelong.98818ead-d6d1-11ed-8457-c4bde595afbe.xml\n",
      "Image:E:\\omar\\Programming (Practice & Projects)\\Practice\\Deep learning\\Object detection tutorial\\TFODCourse\\Tensorflow\\workspace\\images\\collectedimages\\livelong\\livelong.9aea4943-d6d1-11ed-b1ff-c4bde595afbe.jpg -> Annotation:E:/omar/Programming (Practice & Projects)/Practice/Deep learning/Object detection tutorial/TFODCourse/Tensorflow/workspace/images/collectedimages/livelong\\livelong.9aea4943-d6d1-11ed-b1ff-c4bde595afbe.xml\n",
      "Image:E:\\omar\\Programming (Practice & Projects)\\Practice\\Deep learning\\Object detection tutorial\\TFODCourse\\Tensorflow\\workspace\\images\\collectedimages\\thankyou\\thankyou.8de538f0-d6d1-11ed-897e-c4bde595afbe.jpg -> Annotation:E:/omar/Programming (Practice & Projects)/Practice/Deep learning/Object detection tutorial/TFODCourse/Tensorflow/workspace/images/collectedimages/thankyou\\thankyou.8de538f0-d6d1-11ed-897e-c4bde595afbe.xml\n",
      "Cancel creation.\n",
      "Image:E:\\omar\\Programming (Practice & Projects)\\Practice\\Deep learning\\Object detection tutorial\\TFODCourse\\Tensorflow\\workspace\\images\\collectedimages\\thankyou\\thankyou.8f187341-d6d1-11ed-9b06-c4bde595afbe.jpg -> Annotation:E:/omar/Programming (Practice & Projects)/Practice/Deep learning/Object detection tutorial/TFODCourse/Tensorflow/workspace/images/collectedimages/thankyou\\thankyou.8f187341-d6d1-11ed-9b06-c4bde595afbe.xml\n",
      "Cancel creation.\n",
      "Image:E:\\omar\\Programming (Practice & Projects)\\Practice\\Deep learning\\Object detection tutorial\\TFODCourse\\Tensorflow\\workspace\\images\\collectedimages\\thankyou\\thankyou.92b59f11-d6d1-11ed-88a0-c4bde595afbe.jpg -> Annotation:E:/omar/Programming (Practice & Projects)/Practice/Deep learning/Object detection tutorial/TFODCourse/Tensorflow/workspace/images/collectedimages/thankyou\\thankyou.92b59f11-d6d1-11ed-88a0-c4bde595afbe.xml\n",
      "Image:E:\\omar\\Programming (Practice & Projects)\\Practice\\Deep learning\\Object detection tutorial\\TFODCourse\\Tensorflow\\workspace\\images\\collectedimages\\thankyou\\thankyou.904e59fb-d6d1-11ed-a8ff-c4bde595afbe.jpg -> Annotation:E:/omar/Programming (Practice & Projects)/Practice/Deep learning/Object detection tutorial/TFODCourse/Tensorflow/workspace/images/collectedimages/thankyou\\thankyou.904e59fb-d6d1-11ed-a8ff-c4bde595afbe.xml\n",
      "Image:E:\\omar\\Programming (Practice & Projects)\\Practice\\Deep learning\\Object detection tutorial\\TFODCourse\\Tensorflow\\workspace\\images\\collectedimages\\thankyou\\thankyou.9181a0c1-d6d1-11ed-aef7-c4bde595afbe.jpg -> Annotation:E:/omar/Programming (Practice & Projects)/Practice/Deep learning/Object detection tutorial/TFODCourse/Tensorflow/workspace/images/collectedimages/thankyou\\thankyou.9181a0c1-d6d1-11ed-aef7-c4bde595afbe.xml\n",
      "Cancel creation.\n",
      "Image:E:\\omar\\Programming (Practice & Projects)\\Practice\\Deep learning\\Object detection tutorial\\TFODCourse\\Tensorflow\\workspace\\images\\collectedimages\\thumbsdown\\thumbsdown.85b0e56e-d6d1-11ed-a15b-c4bde595afbe.jpg -> Annotation:E:/omar/Programming (Practice & Projects)/Practice/Deep learning/Object detection tutorial/TFODCourse/Tensorflow/workspace/images/collectedimages/thumbsdown\\thumbsdown.85b0e56e-d6d1-11ed-a15b-c4bde595afbe.xml\n",
      "Image:E:\\omar\\Programming (Practice & Projects)\\Practice\\Deep learning\\Object detection tutorial\\TFODCourse\\Tensorflow\\workspace\\images\\collectedimages\\thumbsdown\\thumbsdown.86e6890b-d6d1-11ed-8e79-c4bde595afbe.jpg -> Annotation:E:/omar/Programming (Practice & Projects)/Practice/Deep learning/Object detection tutorial/TFODCourse/Tensorflow/workspace/images/collectedimages/thumbsdown\\thumbsdown.86e6890b-d6d1-11ed-8e79-c4bde595afbe.xml\n",
      "Image:E:\\omar\\Programming (Practice & Projects)\\Practice\\Deep learning\\Object detection tutorial\\TFODCourse\\Tensorflow\\workspace\\images\\collectedimages\\thumbsdown\\thumbsdown.847d4dda-d6d1-11ed-b8f3-c4bde595afbe.jpg -> Annotation:E:/omar/Programming (Practice & Projects)/Practice/Deep learning/Object detection tutorial/TFODCourse/Tensorflow/workspace/images/collectedimages/thumbsdown\\thumbsdown.847d4dda-d6d1-11ed-b8f3-c4bde595afbe.xml\n",
      "Image:E:\\omar\\Programming (Practice & Projects)\\Practice\\Deep learning\\Object detection tutorial\\TFODCourse\\Tensorflow\\workspace\\images\\collectedimages\\thumbsdown\\thumbsdown.881ac014-d6d1-11ed-b72a-c4bde595afbe.jpg -> Annotation:E:/omar/Programming (Practice & Projects)/Practice/Deep learning/Object detection tutorial/TFODCourse/Tensorflow/workspace/images/collectedimages/thumbsdown\\thumbsdown.881ac014-d6d1-11ed-b72a-c4bde595afbe.xml\n",
      "Image:E:\\omar\\Programming (Practice & Projects)\\Practice\\Deep learning\\Object detection tutorial\\TFODCourse\\Tensorflow\\workspace\\images\\collectedimages\\thumbsdown\\thumbsdown.894e9f71-d6d1-11ed-a560-c4bde595afbe.jpg -> Annotation:E:/omar/Programming (Practice & Projects)/Practice/Deep learning/Object detection tutorial/TFODCourse/Tensorflow/workspace/images/collectedimages/thumbsdown\\thumbsdown.894e9f71-d6d1-11ed-a560-c4bde595afbe.xml\n",
      "Image:E:\\omar\\Programming (Practice & Projects)\\Practice\\Deep learning\\Object detection tutorial\\TFODCourse\\Tensorflow\\workspace\\images\\collectedimages\\thumbsup\\thumbsup.7b095e56-d6d1-11ed-819f-c4bde595afbe.jpg -> Annotation:E:/omar/Programming (Practice & Projects)/Practice/Deep learning/Object detection tutorial/TFODCourse/Tensorflow/workspace/images/collectedimages/thumbsup\\thumbsup.7b095e56-d6d1-11ed-819f-c4bde595afbe.xml\n",
      "Image:E:\\omar\\Programming (Practice & Projects)\\Practice\\Deep learning\\Object detection tutorial\\TFODCourse\\Tensorflow\\workspace\\images\\collectedimages\\thumbsup\\thumbsup.7c477669-d6d1-11ed-9d59-c4bde595afbe.jpg -> Annotation:E:/omar/Programming (Practice & Projects)/Practice/Deep learning/Object detection tutorial/TFODCourse/Tensorflow/workspace/images/collectedimages/thumbsup\\thumbsup.7c477669-d6d1-11ed-9d59-c4bde595afbe.xml\n",
      "Image:E:\\omar\\Programming (Practice & Projects)\\Practice\\Deep learning\\Object detection tutorial\\TFODCourse\\Tensorflow\\workspace\\images\\collectedimages\\thumbsup\\thumbsup.7d7dbb66-d6d1-11ed-a0cf-c4bde595afbe.jpg -> Annotation:E:/omar/Programming (Practice & Projects)/Practice/Deep learning/Object detection tutorial/TFODCourse/Tensorflow/workspace/images/collectedimages/thumbsup\\thumbsup.7d7dbb66-d6d1-11ed-a0cf-c4bde595afbe.xml\n",
      "Image:E:\\omar\\Programming (Practice & Projects)\\Practice\\Deep learning\\Object detection tutorial\\TFODCourse\\Tensorflow\\workspace\\images\\collectedimages\\thumbsup\\thumbsup.7eb27e7e-d6d1-11ed-88e1-c4bde595afbe.jpg -> Annotation:E:/omar/Programming (Practice & Projects)/Practice/Deep learning/Object detection tutorial/TFODCourse/Tensorflow/workspace/images/collectedimages/thumbsup\\thumbsup.7eb27e7e-d6d1-11ed-88e1-c4bde595afbe.xml\n",
      "Image:E:\\omar\\Programming (Practice & Projects)\\Practice\\Deep learning\\Object detection tutorial\\TFODCourse\\Tensorflow\\workspace\\images\\collectedimages\\thumbsup\\thumbsup.7fe6a00c-d6d1-11ed-8680-c4bde595afbe.jpg -> Annotation:E:/omar/Programming (Practice & Projects)/Practice/Deep learning/Object detection tutorial/TFODCourse/Tensorflow/workspace/images/collectedimages/thumbsup\\thumbsup.7fe6a00c-d6d1-11ed-8680-c4bde595afbe.xml\n"
     ]
    }
   ],
   "source": [
    "!cd {LABELIMG_PATH} && python labelImg.py"
   ]
  },
  {
   "cell_type": "markdown",
   "metadata": {},
   "source": [
    "# 6. Move them into a Training and Testing Partition"
   ]
  },
  {
   "cell_type": "markdown",
   "metadata": {},
   "source": [
    "# OPTIONAL - 7. Compress them for Colab Training"
   ]
  },
  {
   "cell_type": "code",
   "execution_count": 20,
   "metadata": {},
   "outputs": [],
   "source": [
    "TRAIN_PATH = os.path.join('Tensorflow', 'workspace', 'images', 'train')\n",
    "TEST_PATH = os.path.join('Tensorflow', 'workspace', 'images', 'test')\n",
    "ARCHIVE_PATH = os.path.join('Tensorflow', 'workspace', 'images', 'archive.tar.gz')"
   ]
  },
  {
   "cell_type": "code",
   "execution_count": 21,
   "metadata": {},
   "outputs": [],
   "source": [
    "!tar -czf {ARCHIVE_PATH} {TRAIN_PATH} {TEST_PATH}"
   ]
  },
  {
   "cell_type": "code",
   "execution_count": null,
   "metadata": {},
   "outputs": [],
   "source": []
  }
 ],
 "metadata": {
  "kernelspec": {
   "display_name": "Python 3 (ipykernel)",
   "language": "python",
   "name": "python3"
  },
  "language_info": {
   "codemirror_mode": {
    "name": "ipython",
    "version": 3
   },
   "file_extension": ".py",
   "mimetype": "text/x-python",
   "name": "python",
   "nbconvert_exporter": "python",
   "pygments_lexer": "ipython3",
   "version": "3.10.9"
  }
 },
 "nbformat": 4,
 "nbformat_minor": 2
}
